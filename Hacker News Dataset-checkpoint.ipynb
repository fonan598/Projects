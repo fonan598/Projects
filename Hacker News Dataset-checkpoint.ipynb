{
 "cells": [
  {
   "cell_type": "markdown",
   "id": "0d413429",
   "metadata": {},
   "source": [
    "# Hacker News Project"
   ]
  },
  {
   "cell_type": "markdown",
   "id": "17c1ec96",
   "metadata": {},
   "source": [
    "- The dataset being used here is a range of posts from the website 'HackerNews'\n",
    "- Below are the descriptions of the columns in the dataset\n",
    "    - **id**: the unique identifier from Hacker News for the post\n",
    "    - **title**: the title of the post\n",
    "    - **url**: the URL that the posts links to, if the post has a URL\n",
    "    - **num_points**: the number of points the post acquired, calculated as the total number of upvotes minus the total number of downvotes\n",
    "    - **num_comments**: the number of comments on the post\n",
    "    - **author**: the username of the person who submitted the post\n",
    "    - **created_at**: the date and time of the post's submission\n",
    "- We're specifically interested in posts with titles that begin with either _Ask HN_ or _Show HN_\n",
    "- We'll compare the two to determine\n",
    "    - Do _Ask HN_ or _Show HN_ receive more comments on avg\n",
    "    - Do posts created at a certain time receive more comments on avg"
   ]
  },
  {
   "cell_type": "code",
   "execution_count": 17,
   "id": "dd93bf50",
   "metadata": {},
   "outputs": [],
   "source": [
    "from csv import reader\n",
    "import datetime as dt"
   ]
  },
  {
   "cell_type": "code",
   "execution_count": 20,
   "id": "c0dd7c97",
   "metadata": {},
   "outputs": [
    {
     "name": "stdout",
     "output_type": "stream",
     "text": [
      "['10975351', 'How to Use Open Source and Shut the Fuck Up at the Same Time', 'http://hueniverse.com/2016/01/26/how-to-use-open-source-and-shut-the-fuck-up-at-the-same-time/', '39', '10', 'josep2', '1/26/2016 19:30']\n",
      "['id', 'title', 'url', 'num_points', 'num_comments', 'author', 'created_at']\n"
     ]
    }
   ],
   "source": [
    "opened_file = open('hacker_news.csv')\n",
    "read_file = reader(opened_file)\n",
    "hn = list(read_file)\n",
    "headers = hn[0] # this is the header row\n",
    "hn = hn[1:] #first row is a header\n",
    "print(hn[1])\n",
    "print(headers)"
   ]
  },
  {
   "cell_type": "code",
   "execution_count": 21,
   "id": "176796ad",
   "metadata": {},
   "outputs": [
    {
     "name": "stdout",
     "output_type": "stream",
     "text": [
      "1744\n",
      "1162\n",
      "17194\n"
     ]
    }
   ],
   "source": [
    "ask_posts = []\n",
    "show_posts = []\n",
    "other_posts = []\n",
    "\n",
    "for row in hn:\n",
    "    title = row[1]\n",
    "    if title.lower().startswith('ask hn'):\n",
    "        ask_posts.append(row)\n",
    "    elif title.lower().startswith('show hn'):\n",
    "        show_posts.append(row)\n",
    "    else:\n",
    "        other_posts.append(row)\n",
    "        \n",
    "print(len(ask_posts))\n",
    "print(len(show_posts))\n",
    "print(len(other_posts))"
   ]
  },
  {
   "cell_type": "markdown",
   "id": "f988ad68",
   "metadata": {},
   "source": [
    "- Now we determine if ask posts or show posts receive more comments on avg"
   ]
  },
  {
   "cell_type": "code",
   "execution_count": 22,
   "id": "e2a329d5",
   "metadata": {},
   "outputs": [
    {
     "data": {
      "text/plain": [
       "14.038417431192661"
      ]
     },
     "execution_count": 22,
     "metadata": {},
     "output_type": "execute_result"
    }
   ],
   "source": [
    "total_ask_comments = 0\n",
    "for post in ask_posts:\n",
    "    num_comments = int(post[4])\n",
    "    total_ask_comments += num_comments    \n",
    "\n",
    "avg_ask_comments = total_ask_comments / len(ask_posts)\n",
    "avg_ask_comments"
   ]
  },
  {
   "cell_type": "code",
   "execution_count": 23,
   "id": "80ee8dad",
   "metadata": {},
   "outputs": [
    {
     "data": {
      "text/plain": [
       "10.31669535283993"
      ]
     },
     "execution_count": 23,
     "metadata": {},
     "output_type": "execute_result"
    }
   ],
   "source": [
    "total_show_comments = 0\n",
    "for post in show_posts:\n",
    "    num_comments = int(post[4])\n",
    "    total_show_comments += num_comments\n",
    "    \n",
    "avg_show_comments = total_show_comments / len(show_posts)\n",
    "avg_show_comments"
   ]
  },
  {
   "cell_type": "markdown",
   "id": "c4cf2f1c",
   "metadata": {},
   "source": [
    "- As we can see above the average comments for an ask post is 14 and for a show is 10 <br/> both rounded to the nearest whole number"
   ]
  },
  {
   "cell_type": "markdown",
   "id": "25920021",
   "metadata": {},
   "source": [
    "- Next, we'll determine if ask posts created at a certain time are more likely to attract comments. We'll use the following steps to perform this analysis:\n",
    "\n",
    "    - Calculate the number of ask posts created in each hour of the day, along with the number of comments received.\n",
    "    - Calculate the average number of comments ask posts receive by hour created."
   ]
  },
  {
   "cell_type": "code",
   "execution_count": 45,
   "id": "f2d8e135",
   "metadata": {},
   "outputs": [],
   "source": [
    "result_list = []\n",
    "for post in ask_posts:\n",
    "    created_at = post[6]\n",
    "    num_comments = int(post[4])\n",
    "    result_list.append([created_at, num_comments])\n",
    "    \n",
    "counts_by_hour = {} #number of posts at each time of day\n",
    "comments_by_hour = {} #number of comments onm posts at each time of day\n",
    "date_format = '%m/%d/%Y %H:%M'\n",
    "for row in result_list:\n",
    "    date = row[0]\n",
    "    comment = row[1]\n",
    "    hour = dt.datetime.strptime(date, date_format).strftime('%H')\n",
    "    if hour not in counts_by_hour:\n",
    "        counts_by_hour[hour] = 1\n",
    "        comments_by_hour[hour] = comment\n",
    "    else:\n",
    "        counts_by_hour[hour] += 1\n",
    "        comments_by_hour[hour] += comment"
   ]
  },
  {
   "cell_type": "markdown",
   "id": "f31ece4c",
   "metadata": {},
   "source": [
    "- Next, we'll use these two dictionaries to calculate the average number of comments for posts created during each hour of the day."
   ]
  },
  {
   "cell_type": "code",
   "execution_count": 47,
   "id": "2c1724e4",
   "metadata": {},
   "outputs": [
    {
     "data": {
      "text/plain": [
       "{'09': 45,\n",
       " '13': 85,\n",
       " '10': 59,\n",
       " '14': 107,\n",
       " '16': 108,\n",
       " '23': 68,\n",
       " '12': 73,\n",
       " '17': 100,\n",
       " '15': 116,\n",
       " '21': 109,\n",
       " '20': 80,\n",
       " '02': 58,\n",
       " '18': 109,\n",
       " '03': 54,\n",
       " '05': 46,\n",
       " '19': 110,\n",
       " '01': 60,\n",
       " '22': 71,\n",
       " '08': 48,\n",
       " '04': 47,\n",
       " '00': 55,\n",
       " '06': 44,\n",
       " '07': 34,\n",
       " '11': 58}"
      ]
     },
     "execution_count": 47,
     "metadata": {},
     "output_type": "execute_result"
    }
   ],
   "source": [
    "counts_by_hour"
   ]
  },
  {
   "cell_type": "code",
   "execution_count": 49,
   "id": "0da2a081",
   "metadata": {},
   "outputs": [],
   "source": [
    "avg_by_hour = []\n",
    "\n",
    "for hr in comments_by_hour:\n",
    "    num_posts = counts_by_hour[hr]\n",
    "    num_comments = comments_by_hour[hr]\n",
    "    avg = num_comments / num_posts\n",
    "    avg_by_hour.append([hr, avg])"
   ]
  },
  {
   "cell_type": "markdown",
   "id": "01b7d47a",
   "metadata": {},
   "source": [
    "- Although we now have the results we need, this format makes it difficult to identify the hours with the highest values. Let's finish by sorting the list of lists and printing the five highest values in a format that's easier to read."
   ]
  },
  {
   "cell_type": "code",
   "execution_count": 54,
   "id": "5de0e18e",
   "metadata": {},
   "outputs": [],
   "source": [
    "#first swap order so that avg comments is in first column\n",
    "swap_avg_by_hour = []\n",
    "for row in avg_by_hour:\n",
    "    swap_avg_by_hour.append([row[1], row[0]])\n",
    "    \n",
    "sorted_swap = sorted(swap_avg_by_hour, reverse=True)"
   ]
  },
  {
   "cell_type": "code",
   "execution_count": 55,
   "id": "fd0d4ddd",
   "metadata": {},
   "outputs": [
    {
     "data": {
      "text/plain": [
       "[[38.5948275862069, '15'],\n",
       " [23.810344827586206, '02'],\n",
       " [21.525, '20'],\n",
       " [16.796296296296298, '16'],\n",
       " [16.009174311926607, '21'],\n",
       " [14.741176470588234, '13'],\n",
       " [13.440677966101696, '10'],\n",
       " [13.233644859813085, '14'],\n",
       " [13.20183486238532, '18'],\n",
       " [11.46, '17'],\n",
       " [11.383333333333333, '01'],\n",
       " [11.051724137931034, '11'],\n",
       " [10.8, '19'],\n",
       " [10.25, '08'],\n",
       " [10.08695652173913, '05'],\n",
       " [9.41095890410959, '12'],\n",
       " [9.022727272727273, '06'],\n",
       " [8.127272727272727, '00'],\n",
       " [7.985294117647059, '23'],\n",
       " [7.852941176470588, '07'],\n",
       " [7.796296296296297, '03'],\n",
       " [7.170212765957447, '04'],\n",
       " [6.746478873239437, '22'],\n",
       " [5.5777777777777775, '09']]"
      ]
     },
     "execution_count": 55,
     "metadata": {},
     "output_type": "execute_result"
    }
   ],
   "source": [
    "sorted_swap"
   ]
  },
  {
   "cell_type": "markdown",
   "id": "33546903",
   "metadata": {},
   "source": [
    "- In the above we see that the most comments per hour is at 3pm with 38 comments followed by 2am with 23 comments"
   ]
  },
  {
   "cell_type": "markdown",
   "id": "fa72e93e",
   "metadata": {},
   "source": [
    "1. Determine if show or ask posts receive more points on average.\n",
    "2. Determine if posts created at a certain time are more likely to receive more points.\n",
    "3. Compare your results to the average number of comments and points other posts receive.\n",
    "4. Use Dataquest's data science project style guide to format your project."
   ]
  },
  {
   "cell_type": "code",
   "execution_count": null,
   "id": "ce585e99",
   "metadata": {},
   "outputs": [],
   "source": []
  }
 ],
 "metadata": {
  "kernelspec": {
   "display_name": "Python 3",
   "language": "python",
   "name": "python3"
  },
  "language_info": {
   "codemirror_mode": {
    "name": "ipython",
    "version": 3
   },
   "file_extension": ".py",
   "mimetype": "text/x-python",
   "name": "python",
   "nbconvert_exporter": "python",
   "pygments_lexer": "ipython3",
   "version": "3.8.8"
  }
 },
 "nbformat": 4,
 "nbformat_minor": 5
}
